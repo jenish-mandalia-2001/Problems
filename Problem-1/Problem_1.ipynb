{
  "cells": [
    {
      "cell_type": "code",
      "execution_count": 83,
      "metadata": {
        "id": "Hxy9KjSktd13"
      },
      "outputs": [],
      "source": [
        "import requests\n",
        "from bs4 import BeautifulSoup"
      ]
    },
    {
      "cell_type": "code",
      "source": [
        "# Input actor/actress name to create search link in IMDB\n",
        "\n",
        "name, surname = input('Enter Name:').split()\n",
        "\n",
        "link = f'https://www.imdb.com/search/name/?name={name}+{surname}'\n",
        "r = requests.get(url=link)\n",
        "soup = BeautifulSoup(r.content, 'html.parser')\n",
        "\n",
        "y = soup.find('div', class_='lister-item-content')\n",
        "string = (y.find('a'))\n",
        "string = string.get('href')\n",
        "string = string.split('/')[-1]      # String is ID of perticular Actor/Actress"
      ],
      "metadata": {
        "colab": {
          "base_uri": "https://localhost:8080/"
        },
        "id": "EkTevzw73RW6",
        "outputId": "e630e259-e03a-499b-e93f-b483326b575c"
      },
      "execution_count": 84,
      "outputs": [
        {
          "name": "stdout",
          "output_type": "stream",
          "text": [
            "Enter Name:salman khan\n"
          ]
        }
      ]
    },
    {
      "cell_type": "code",
      "source": [
        "# Heading \n",
        "print(f'{name.upper()} {surname.upper()} MOVIES IN DECENDING ORDER')\n",
        "print('======================')\n",
        "\n",
        "# HTML parser content\n",
        "link = 'https://www.imdb.com/name/' + string\n",
        "r = requests.get(url=link)\n",
        "soup = BeautifulSoup(r.content, 'html.parser')\n",
        "\n",
        "# Movie content what we need to print\n",
        "s = soup.find('div', class_='filmo-category-section').find_all('div', class_='filmo-row')\n",
        "list_of_movie = set()\n",
        "for line in s:\n",
        "    string = (line.find('a'))\n",
        "    string = string.text\n",
        "    list_of_movie.add(string)\n",
        "\n",
        "# Convert into List and set into decending Order\n",
        "list_of_movie = list(list_of_movie)\n",
        "list_of_movie.sort(reverse=True)       \n",
        "print(*list_of_movie, sep='\\n')"
      ],
      "metadata": {
        "colab": {
          "base_uri": "https://localhost:8080/"
        },
        "id": "jQrTUyaq3Yva",
        "outputId": "00a1ce9c-a830-4f5d-ee26-d48d6d8ba148"
      },
      "execution_count": 85,
      "outputs": [
        {
          "output_type": "stream",
          "name": "stdout",
          "text": [
            "SALMAN KHAN MOVIES IN DECENDING ORDER\n",
            "======================\n",
            "Yuvvraaj\n",
            "Yeh Rishta Kya Kehlata Hai\n",
            "Yeh Majhdhaar\n",
            "Yeh Hai Jalwa\n",
            "Yeh Dooriyan\n",
            "Yamla Pagla Deewana Phir Se...\n",
            "When One Falls in Love\n",
            "Wanted\n",
            "Veergati\n",
            "Veer\n",
            "Tumko Na Bhool Paayenge\n",
            "Tubelight\n",
            "Tiger Zinda Hai\n",
            "The Routes\n",
            "Tell Me O Kkhuda\n",
            "Tees Maar Khan\n",
            "Taarak Mehta Ka Ooltah Chashmah\n",
            "Suryavanshi\n",
            "Sultan\n",
            "Son of Sardaar\n",
            "Shaadi Karke Phas Gaya Yaar\n",
            "Sar Utha Ke Jiyo\n",
            "Sangdil Sanam\n",
            "Sanam Bewafa\n",
            "Salman Khan: Dance with Me\n",
            "Salaam-E-Ishq\n",
            "Saawariya\n",
            "Saawan... The Love Season\n",
            "Saas Bahu Aur Betiyaan\n",
            "Saajan\n",
            "Responsible Citizens\n",
            "Relaxo: Commercial\n",
            "Ready\n",
            "Radhe\n",
            "Race 3\n",
            "Pyara Bharat Yeh Kahe\n",
            "Pyaar Kiya To Darna Kya\n",
            "Pride and Honour\n",
            "Prem Ratan Dhan Payo\n",
            "Prem Kaa Game\n",
            "Phir Milenge\n",
            "Phir Mile Sur\n",
            "Phata Poster Nikhla Hero\n",
            "Patthar Ke Phool\n",
            "Partner\n",
            "Only You\n",
            "Om Shanti Om\n",
            "O Teri\n",
            "No Entry\n",
            "Nishchaiy\n",
            "Mujhse Shaadi Karogi\n",
            "Me and Mrs. Khanna\n",
            "Marigold\n",
            "Maine Pyar Kiya\n",
            "Maine Pyaar Kyun Kiya\n",
            "Main Tera Hero\n",
            "Lucky: No Time for Love\n",
            "Love at Times Square\n",
            "Love\n",
            "London Dreams\n",
            "Lai Bhaari\n",
            "Kyon Ki...\n",
            "Kurbaan\n",
            "Kuch Kuch Hota Hai\n",
            "Kick 2\n",
            "Kick\n",
            "Khamoshi the Musical\n",
            "Karan Arjun\n",
            "Kahin Pyaar Na Ho Jaaye\n",
            "Kabhi Eid Kabhi Diwali\n",
            "Kaagaz\n",
            "Judwaa 2\n",
            "Judwaa\n",
            "Jeet\n",
            "Jai Ho\n",
            "Jaanam Samjha Karo\n",
            "Jaan-E-Mann: Let's Fall in Love... Again\n",
            "Jaagruti\n",
            "Isi Life Mein...!\n",
            "Ishkq in Paris\n",
            "In Your Name\n",
            "Hum Tumhare Hain Sanam\n",
            "Hum Saath-Saath Hain\n",
            "Hum Dil De Chuke Sanam\n",
            "Hum Aapke Hain Koun..!\n",
            "Honey Honey\n",
            "Heroes\n",
            "Hello Brother\n",
            "Hello\n",
            "Har Dil Jo Pyar Karega...\n",
            "Hanuman Da' Damdaar\n",
            "Guru Randhawa & Iulia Vantur: Main Chala\n",
            "Godfather\n",
            "God Tussi Great Ho\n",
            "Ek Tha Tiger\n",
            "Ek Ladka Ek Ladki\n",
            "Dushman Duniya Ka\n",
            "Dus\n",
            "Dulhan Hum Le Jayenge\n",
            "Diya Aur Baati Hum\n",
            "Dil Tera Aashiq\n",
            "Dil Ne Jise Apna Kaha\n",
            "Dhaai Akshar Prem Ke\n",
            "Deewana Mastana\n",
            "Dabangg 3\n",
            "Dabangg 2\n",
            "Dabangg\n",
            "Chori Chori Chupke Chupke\n",
            "Chandra Mukhi\n",
            "Chal Mere Bhai\n",
            "Chaka Chaka Bhaunri\n",
            "Chaand Kaa Tukdaa\n",
            "C.I.D.\n",
            "Bulund\n",
            "Bodyguard\n",
            "Biwi No. 1\n",
            "Biwi Ho To Aisi\n",
            "Bharat\n",
            "Bawara Dil\n",
            "Bandhan\n",
            "Bajrangi Bhaijaan\n",
            "Baghban\n",
            "Baaghi: A Rebel for Love\n",
            "Baabul\n",
            "Auzaar\n",
            "Antim: The Final Truth\n",
            "Andaz Apna Apna\n",
            "Ajab Prem Ki Ghazab Kahani\n",
            "Aag Lag Gayee\n"
          ]
        }
      ]
    }
  ],
  "metadata": {
    "colab": {
      "collapsed_sections": [],
      "name": "Problem-1.ipynb",
      "provenance": []
    },
    "kernelspec": {
      "display_name": "Python 3",
      "name": "python3"
    },
    "language_info": {
      "name": "python"
    }
  },
  "nbformat": 4,
  "nbformat_minor": 0
}